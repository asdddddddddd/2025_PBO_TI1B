{
  "nbformat": 4,
  "nbformat_minor": 0,
  "metadata": {
    "colab": {
      "provenance": [],
      "authorship_tag": "ABX9TyM5DK0BOiE6B17EXzZJGMLy",
      "include_colab_link": true
    },
    "kernelspec": {
      "name": "python3",
      "display_name": "Python 3"
    },
    "language_info": {
      "name": "python"
    }
  },
  "cells": [
    {
      "cell_type": "markdown",
      "metadata": {
        "id": "view-in-github",
        "colab_type": "text"
      },
      "source": [
        "<a href=\"https://colab.research.google.com/github/asdddddddddd/2025_PBO_TI1B/blob/main/Jobsheet4.ipynb\" target=\"_parent\"><img src=\"https://colab.research.google.com/assets/colab-badge.svg\" alt=\"Open In Colab\"/></a>"
      ]
    },
    {
      "cell_type": "markdown",
      "source": [
        "# JOBSHEET 04: MEMAHAMI PEWARISAN (INHERITANCE) DALAM PYTHON"
      ],
      "metadata": {
        "id": "yk6nrM1glSOh"
      }
    },
    {
      "cell_type": "markdown",
      "source": [
        "## Praktikum 01: Inheritance Dasar"
      ],
      "metadata": {
        "id": "BLvzTF3Hnctw"
      }
    },
    {
      "cell_type": "code",
      "execution_count": null,
      "metadata": {
        "id": "Yz_DpnhzlCDj",
        "colab": {
          "base_uri": "https://localhost:8080/"
        },
        "outputId": "35bd7acd-6207-493b-ffbb-a14932fd7ed3"
      },
      "outputs": [
        {
          "output_type": "stream",
          "name": "stdout",
          "text": [
            "Ini adalah mobil Tesla Model S berwarna Merah.\n",
            "Mesin kendaraan Tesla Model S dinyatakan.\n",
            "Merk mobil: Tesla Model S\n"
          ]
        }
      ],
      "source": [
        "# Kelas Induk\n",
        "class Kendaraan:\n",
        "    def __init__ (self, merk):\n",
        "        self.merk = merk\n",
        "    def mulai_mesin (self):\n",
        "        print(f\"Mesin kendaraan {self.merk} dinyatakan.\")\n",
        "\n",
        "# Kelas Anak (mewarisi dari Kendaraan)\n",
        "class Mobil (Kendaraan):\n",
        "    def __init__ (self, merk, warna):\n",
        "        # Memanggil _init__ Kelas induk (akan dibahas di Praktikum 2)\n",
        "        # Untuk sekarang, kita set merk secara manual\n",
        "        self.merk = merk # Mewarisi 'merk' tapi di-set ulang di sini\n",
        "        self.warna = warna # Atribut khusus mobil\n",
        "\n",
        "    def info_mobil (self):\n",
        "        print(f\"Ini adalah mobil {self.merk} berwarna {self.warna}.\")\n",
        "\n",
        "# --- Kode Utama ---\n",
        "if __name__ == \"__main__\":\n",
        "    mobil_tesla = Mobil (\"Tesla Model S\", \"Merah\")\n",
        "\n",
        "    # Memanggil metode dari kelas anak\n",
        "    mobil_tesla.info_mobil()\n",
        "\n",
        "    # Memanggil metode yang diwarisi dari kelas induk\n",
        "    mobil_tesla.mulai_mesin()\n",
        "\n",
        "    # Mengakses atribut yang diwarisi (dan di-set di anak)\n",
        "    print(f\"Merk mobil: {mobil_tesla.merk}\")"
      ]
    },
    {
      "cell_type": "markdown",
      "source": [
        "## Praktikum 02: Menggunakan super() dalam konstruktor"
      ],
      "metadata": {
        "id": "p3kuaVLTr_i9"
      }
    },
    {
      "cell_type": "code",
      "source": [
        "# Kelas Induk\n",
        "class Person:\n",
        "    def __init__ (self, nama, usia) :\n",
        "        print (f\"(Memanggil _init__ Person untuk '{nama}')\")\n",
        "        self.nama = nama\n",
        "        self.usia = usia\n",
        "\n",
        "    def perkenalkan_diri (self) :\n",
        "        print (f\"Halo, nama saya {self.nama}, usia saya {self.usia} tahun.\")\n",
        "# Kelas Anak (mewarisi dari Person)\n",
        "class Student (Person) :\n",
        "    def __init__ (self, nama, usia, student_id, jurusan) :\n",
        "        print (f\"(Memanggil __init__ Student untuk '{nama}')\")\n",
        "        # Memanggil _init__ dari kelas Person untuk inisialisasi nama dan usia\n",
        "        super() .__init__ (nama, usia)\n",
        "        # Menambahkan atribut khusus student\n",
        "        self.student_id = student_id\n",
        "        self.jurusan = jurusan\n",
        "        print (f\"(Inisialisasi atribut Student selesai untuk '{nama}')\")\n",
        "\n",
        "    def info_akademik (self) :\n",
        "        print (f\"ID Mahasiswa: {self.student_id}\")\n",
        "        print (f\"Jurusan: {self.jurusan}\")\n",
        "\n",
        "    # Override perkenalkan diri untuk menambahkan info student\n",
        "    def perkenalkan_diri (self) :\n",
        "        super() .perkenalkan_diri () # Panggil versi Person\n",
        "        print (f\"Saya adalah mahasiswa dengan ID {self.student_id}, jurusan {self.jurusan} .\")\n",
        "\n",
        "# --- Kode Utama ---\n",
        "if __name__ == \"__main__\" :\n",
        "    # Membuat objek Person\n",
        "    dosen = Person (\"Pak Anton\", 45)\n",
        "    print (\"-\" * 20)\n",
        "    dosen.perkenalkan_diri ()\n",
        "    print (\"\\n\" + \"=\" * 30 + \"\\n\")\n",
        "\n",
        "    # Membuat objek Student\n",
        "    mahasiswa = Student (\"Dewi\", 20, \"MHS001\", \"Teknik Komputer\")\n",
        "    print (\"\\n\" + \"=\" * 30 + \"\\n\")\n",
        "    mahasiswa.perkenalkan_diri () # Panggil versi override di Student\n",
        "    print (\"-\" * 20)\n",
        "    mahasiswa.info_akademik () # Panggil metode khusus Student\n",
        "\n",
        "    # Cek atribut yang diwarisi\n",
        "    print (f\"\\nUsia mahasiswa {mahasiswa.nama} : {mahasiswa.usia}\") # usia diwarisi dari Person"
      ],
      "metadata": {
        "colab": {
          "base_uri": "https://localhost:8080/"
        },
        "id": "_FlhaykYsH4x",
        "outputId": "27f85b83-cc6a-4039-f155-34a359e4d1f0"
      },
      "execution_count": null,
      "outputs": [
        {
          "output_type": "stream",
          "name": "stdout",
          "text": [
            "(Memanggil _init__ Person untuk 'Pak Anton')\n",
            "--------------------\n",
            "Halo, nama saya Pak Anton, usia saya 45 tahun.\n",
            "\n",
            "==============================\n",
            "\n",
            "(Memanggil __init__ Student untuk 'Dewi')\n",
            "(Memanggil _init__ Person untuk 'Dewi')\n",
            "(Inisialisasi atribut Student selesai untuk 'Dewi')\n",
            "\n",
            "==============================\n",
            "\n",
            "Halo, nama saya Dewi, usia saya 20 tahun.\n",
            "Saya adalah mahasiswa dengan ID MHS001, jurusan Teknik Komputer .\n",
            "--------------------\n",
            "ID Mahasiswa: MHS001\n",
            "Jurusan: Teknik Komputer\n",
            "\n",
            "Usia mahasiswa Dewi : 20\n"
          ]
        }
      ]
    },
    {
      "cell_type": "markdown",
      "source": [
        "## Praktikum 03: Method Overriding dan super ()"
      ],
      "metadata": {
        "id": "Gz4IMQTL7HZb"
      }
    },
    {
      "cell_type": "code",
      "source": [
        "# Kelas Induk\n",
        "class Hewan :\n",
        "    def __init__ (self, nama) :\n",
        "        self.nama = nama\n",
        "\n",
        "    def bersuara (self) :\n",
        "        print (f\"{self.nama} mengeluarkan suara generik\")\n",
        "\n",
        "    def tampilkan_info (self) :\n",
        "        print (f\"Ini adalah hewan bernama {self.nama}.\")\n",
        "\n",
        "# Kelas Anak\n",
        "class Kucing (Hewan) :\n",
        "    def __init__ (self, nama, ras) :\n",
        "        super () .__init__ (nama) # Panggil init induk\n",
        "        self.ras = ras\n",
        "\n",
        "    # Method Overriding untuk bersuara\n",
        "    def bersuara (self) :\n",
        "        print (f\"{self.nama} (Kucing) mengeong: Meow!\")\n",
        "\n",
        "    # Method Overriding untuk tampilkan_info, memanggil versi induk\n",
        "    def tampilkan_info (self) :\n",
        "        super () .tampilkan_info () # Panggil implementasi dari Hewan\n",
        "        print (f\"Ini adalah kucing ras {self.ras}.\") # Tambahkan info spesifik\n",
        "\n",
        "# --- Kode Utama ---\n",
        "if __name__ == \"__main__\" :\n",
        "    hewan_umum = Hewan (\"Makhluk\")\n",
        "    kucing_persia = Kucing (\"Puspus\", \"Persia\")\n",
        "\n",
        "    print (\"Info Hewan Umum:\")\n",
        "    hewan_umum.tampilkan_info ()\n",
        "    hewan_umum.bersuara()\n",
        "    print (\"-\" * 20)\n",
        "\n",
        "    print (\"Info Kucing Persia:\")\n",
        "    kucing_persia.tampilkan_info () # Akan memanggil versi Kucing\n",
        "    kucing_persia.bersuara () # Akan memanggil versi Kucing"
      ],
      "metadata": {
        "id": "7XkTeqlM7Np7",
        "outputId": "45f54316-41fb-49d9-c82e-ae71d0a43ddf",
        "colab": {
          "base_uri": "https://localhost:8080/"
        }
      },
      "execution_count": null,
      "outputs": [
        {
          "output_type": "stream",
          "name": "stdout",
          "text": [
            "Info Hewan Umum:\n",
            "Ini adalah hewan bernama Makhluk.\n",
            "Makhluk mengeluarkan suara generik\n",
            "--------------------\n",
            "Info Kucing Persia:\n",
            "Ini adalah hewan bernama Puspus.\n",
            "Ini adalah kucing ras Persia.\n",
            "Puspus (Kucing) mengeong: Meow!\n"
          ]
        }
      ]
    },
    {
      "cell_type": "markdown",
      "source": [
        "## Praktikum 04: Multi-level Inheritance (Pewarisan Bertingkat)"
      ],
      "metadata": {
        "id": "ucLtArum-Z6E"
      }
    },
    {
      "cell_type": "code",
      "source": [
        "# Kelas Induk Level 1\n",
        "class Organisme:\n",
        "    def __init__ (self, nama) :\n",
        "        self.nama = nama\n",
        "        print (f\"Organisme '{self.nama} diciptakan.\")\n",
        "\n",
        "    def bernapas (self) :\n",
        "        print (f\"{self.nama} sedang bernapas.\")\n",
        "\n",
        "# Kelas Anak Level 1 (mewarisi dari Organisme)\n",
        "class Hewan (Organisme) :\n",
        "    def __init__ (self, nama, jenis_makanan) :\n",
        "        super () .__init__ (nama) # Panggil init Organisme\n",
        "        self.jenis_makanan = jenis_makanan\n",
        "        print(f\"Hewan '{self.nama}' adalah {self.jenis_makanan}.\")\n",
        "\n",
        "    def bergerak (self) :\n",
        "        print (f\"{self.nama} sedang bergerak.\")\n",
        "\n",
        "# Kelas Anak Level 2 (mewarisi dari Hewan)\n",
        "class Mamalia (Hewan) :\n",
        "    def __init__ (self, nama, jenis_makanan, jumlah_kaki) :\n",
        "        super () .__init__ (nama, jenis_makanan) # Panggil init Hewan\n",
        "        self.jumlah_kaki = jumlah_kaki\n",
        "        print (f\"Mamalia '{self.nama}' memiliki {self.jumlah_kaki} kaki.\")\n",
        "\n",
        "    def menyusui (self) :\n",
        "        print (f\"{self.nama} sedang menyusui.\")\n",
        "\n",
        "# --- Kode Utama ---\n",
        "if __name__ == \"__main__\" :\n",
        "    kucing = Mamalia (\"Kucing Persia\", \"Karnivora\", 4)\n",
        "    print (\"-\" * 20)\n",
        "\n",
        "    # Memanggil metode dari kelas Mamalia\n",
        "    kucing.menyusui ()\n",
        "\n",
        "    # Memanggil metode yang diwarisi dari kelas Hewan\n",
        "    kucing.bergerak ()\n",
        "    print (f\"Jenis makanan: {kucing.jenis_makanan}\")\n",
        "\n",
        "    # Memanggil metode yang diwarisi dari kelas Organisme\n",
        "    kucing.bernapas ()\n",
        "    print (f\"Nama Organisme: {kucing.nama}\")"
      ],
      "metadata": {
        "id": "b2cxFoTz-hbS",
        "outputId": "61d27234-d4de-4495-b96b-c9b718d234c1",
        "colab": {
          "base_uri": "https://localhost:8080/"
        }
      },
      "execution_count": null,
      "outputs": [
        {
          "output_type": "stream",
          "name": "stdout",
          "text": [
            "Organisme 'Kucing Persia diciptakan.\n",
            "Hewan 'Kucing Persia' adalah Karnivora.\n",
            "Mamalia 'Kucing Persia' memiliki 4 kaki.\n",
            "--------------------\n",
            "Kucing Persia sedang menyusui.\n",
            "Kucing Persia sedang bergerak.\n",
            "Jenis makanan: Karnivora\n",
            "Kucing Persia sedang bernapas.\n",
            "Nama Organisme: Kucing Persia\n"
          ]
        }
      ]
    },
    {
      "cell_type": "markdown",
      "source": [
        "Praktikum 05: Hierarchical Inheritance"
      ],
      "metadata": {
        "id": "lFyJlqqoCGAb"
      }
    },
    {
      "cell_type": "code",
      "source": [
        "!apt-get install -y locales\n",
        "!locale-gen id_ID.UTF-8\n",
        "!update.locale"
      ],
      "metadata": {
        "id": "1W1au14CCMQJ",
        "outputId": "e3fce73b-56a4-4da0-bc1f-3fdc528c2358",
        "colab": {
          "base_uri": "https://localhost:8080/"
        }
      },
      "execution_count": null,
      "outputs": [
        {
          "output_type": "stream",
          "name": "stdout",
          "text": [
            "Reading package lists... Done\n",
            "Building dependency tree... Done\n",
            "Reading state information... Done\n",
            "locales is already the newest version (2.35-0ubuntu3.9).\n",
            "0 upgraded, 0 newly installed, 0 to remove and 34 not upgraded.\n",
            "Generating locales (this might take a while)...\n",
            "  id_ID.UTF-8... done\n",
            "Generation complete.\n",
            "/bin/bash: line 1: update.locale: command not found\n"
          ]
        }
      ]
    },
    {
      "cell_type": "code",
      "source": [
        "import locale\n",
        "\n",
        "try:\n",
        "    locale.setlocale(locale.LC_ALL,'id_ID.UTF-8')\n",
        "except locale.Error:\n",
        "      print(\"Locale id_ID.UTF-8 tidak tersedia, menggunakan locale default\")\n",
        "\n",
        "def format_rupiah(angka):\n",
        "    return locale.currency(angka, grouping=True, symbol='Rp')\n",
        "\n",
        "class Pegawai:\n",
        "  def __init__ (self, nama, id_pegawai, gaji_pokok):\n",
        "      self.nama = nama\n",
        "      self.id_pegawai = id_pegawai\n",
        "      self.gaji_pokok = gaji_pokok\n",
        "  def hitung_gaji(self):\n",
        "      return self.gaji_pokok\n",
        "  def tampilkan_info(self):\n",
        "      print(f\"ID Pegawai: {self.id_pegawai}, Nama: {self.nama}\")\n",
        "      print(f\"Gaji Pokok: {format_rupiah(self.gaji_pokok)}\")\n",
        "\n",
        "class Manager(Pegawai):\n",
        "  def __init__ (self, nama, id_pegawai, gaji_pokok, tunjangan_jabatan):\n",
        "      super().__init__(nama, id_pegawai, gaji_pokok)\n",
        "      self.tunjangan_jabatan = tunjangan_jabatan\n",
        "  def hitung_gaji(self):\n",
        "      gaji_total = super().hitung_gaji() + self.tunjangan_jabatan\n",
        "      return gaji_total\n",
        "  def tampilkan_info(self):\n",
        "      print(\"Info manager\")\n",
        "      super().tampilkan_info()\n",
        "      print(f\"Tunjangan Jabatan: {format_rupiah(self.hitung_gaji())}\")\n",
        "\n",
        "class StaffTeknik(Pegawai):\n",
        "  def __init__ (self, nama, id_pegawai, gaji_pokok, keahlian, bonus_keahlian):\n",
        "      super().__init__(nama, id_pegawai, gaji_pokok)\n",
        "      self.keahlian = keahlian\n",
        "      self.bonus_keahlian = bonus_keahlian\n",
        "  def hitung_gaji(self):\n",
        "      gaji_total = super().hitung_gaji() + self.bonus_keahlian\n",
        "      return gaji_total\n",
        "  def tampilkan_info(self):\n",
        "      print(\"Info Staff Teknik\")\n",
        "      super().tampilkan_info()\n",
        "      print(f\"Keahlian: {self.keahlian}\")\n",
        "      print(f\"Bonus Keahlian: {format_rupiah(self.bonus_keahlian)}\")\n",
        "      print(f\"Gaji Total: {format_rupiah(self.hitung_gaji())}\")\n",
        "\n",
        "if __name__ == \"__main__\":\n",
        "  manager1 = Manager(\"Budi Santoso\", \"M001\", 10000000, 5000000)\n",
        "  staf1 = StaffTeknik(\"Citra Lestari\", \"S001\", 7000000, \"Pemrograman Python\", 1500000)\n",
        "  pegawai_baru = Pegawai(\"Rian\", \"P005\", 5000000)\n",
        "  print(\"Menampilkan Informasi Pegawai:\")\n",
        "  manager1.tampilkan_info()\n",
        "  print(\"-\" * 30)\n",
        "  staf1.tampilkan_info\n",
        "  print(\"-\" * 30)\n",
        "\n",
        "  print(\"---INFO PEGAWAI BARU---\")\n",
        "  pegawai_baru.tampilkan_info()\n",
        "  print(f\"total gaji: {format_rupiah(pegawai_baru.hitung_gaji())}\")\n",
        "  print(\"-\" * 30)"
      ],
      "metadata": {
        "id": "B-uWoTCeC3te",
        "colab": {
          "base_uri": "https://localhost:8080/"
        },
        "outputId": "dcdb7fad-d0fa-413e-d442-c6215b1c41eb"
      },
      "execution_count": null,
      "outputs": [
        {
          "output_type": "stream",
          "name": "stdout",
          "text": [
            "Menampilkan Informasi Pegawai:\n",
            "Info manager\n",
            "ID Pegawai: M001, Nama: Budi Santoso\n",
            "Gaji Pokok: Rp10.000.000,00\n",
            "Tunjangan Jabatan: Rp15.000.000,00\n",
            "------------------------------\n",
            "------------------------------\n",
            "---INFO PEGAWAI BARU---\n",
            "ID Pegawai: P005, Nama: Rian\n",
            "Gaji Pokok: Rp5.000.000,00\n",
            "total gaji: Rp5.000.000,00\n",
            "------------------------------\n"
          ]
        }
      ]
    },
    {
      "cell_type": "markdown",
      "source": [
        "## Praktikum 06: Memeriksa Tipe Instance dengan instance()"
      ],
      "metadata": {
        "id": "W35deLcuQzzC"
      }
    },
    {
      "cell_type": "code",
      "source": [
        "class BentukGeometri:\n",
        "\tdef __init__(self, nama_bentuk):\n",
        "\t\tself.nama = nama_bentuk\n",
        "\tdef tampilkan_nama(self):\n",
        "\t\tprint(f\"Ini adalah bentuk: {self.nama}\")\n",
        "\tdef hitung_luas(self):\n",
        "\t  print(f\"Luas {self.nama} tidak dapat dihitung (generik).\")\n",
        "\n",
        "class PersegiPanjang(BentukGeometri):\n",
        "\tdef __init__(self, panjang, lebar):\n",
        "\t\tsuper().__init__(\"Persegi Panjang\")\n",
        "\t\tself.panjang = panjang\n",
        "\t\tself.lebar = lebar\n",
        "\tdef hitung_luas(self):\n",
        "\t\tluas = self.panjang * self.lebar\n",
        "\t\tprint(f\"Luas {self.nama}: {luas}\")\n",
        "\n",
        "class Segitiga(BentukGeometri):\n",
        "\tdef __init__(self, alas, tinggi):\n",
        "\t\tsuper().__init__(\"Segitiga\")\n",
        "\t\tself.alas = alas\n",
        "\t\tself.tinggi = tinggi\n",
        "\tdef hitung_luas(self):\n",
        "\t\tluas = 0.5 * self.alas * self.tinggi\n",
        "\t\tprint(f\"Luas {self.nama}: {luas}\")\n",
        "\n",
        "def proses_bentuk(bentuk):\n",
        "\tprint(f\"\\nMemproses objek: {type(bentuk)}\")\n",
        "\n",
        "\tif isinstance(bentuk, BentukGeometri):\n",
        "\t\tbentuk.tampilkan_nama()\n",
        "\t\tprint(\"Objek ini adalah instance dari BentukGeometri (atau turunannya).\")\n",
        "\n",
        "\t\tif isinstance(bentuk, PersegiPanjang):\n",
        "\t\t\tprint(\"-> Objek ini juga instance dari PersegiPanjang.\")\n",
        "\t\telif isinstance(bentuk, Segitiga):\n",
        "\t\t\tprint(\"-> Objek ini juga instance dari Segitiga.\")\n",
        "\t\telse:\n",
        "\t\t\tprint(\"Objek ini BUKAN instance dari BentukGeometri.\")\n",
        "\n",
        "\tif isinstance(bentuk, str):\n",
        "\t\tprint(\"Objek ini adalah string.\")\n",
        "\n",
        "# --- Kode Utama ---\n",
        "if __name__ == \"__main__\":\n",
        "\tpp = PersegiPanjang(4, 3)\n",
        "\tseg = Segitiga(5, 2)\n",
        "\tbg = BentukGeometri(\"Lingkaran\") # Contoh lain\n",
        "\tteks = \"Ini string\"\n",
        "\tdaftar_objek = [pp, seg, bg, teks]\n",
        "\tfor obj in daftar_objek:\n",
        "\t\tproses_bentuk(obj)"
      ],
      "metadata": {
        "colab": {
          "base_uri": "https://localhost:8080/"
        },
        "id": "szrY3QISQ7Tw",
        "outputId": "da1d3961-7aaa-444e-a78d-ceb15bf596df"
      },
      "execution_count": 22,
      "outputs": [
        {
          "output_type": "stream",
          "name": "stdout",
          "text": [
            "\n",
            "Memproses objek: <class '__main__.PersegiPanjang'>\n",
            "Ini adalah bentuk: Persegi Panjang\n",
            "Objek ini adalah instance dari BentukGeometri (atau turunannya).\n",
            "-> Objek ini juga instance dari PersegiPanjang.\n",
            "\n",
            "Memproses objek: <class '__main__.Segitiga'>\n",
            "Ini adalah bentuk: Segitiga\n",
            "Objek ini adalah instance dari BentukGeometri (atau turunannya).\n",
            "-> Objek ini juga instance dari Segitiga.\n",
            "\n",
            "Memproses objek: <class '__main__.BentukGeometri'>\n",
            "Ini adalah bentuk: Lingkaran\n",
            "Objek ini adalah instance dari BentukGeometri (atau turunannya).\n",
            "Objek ini BUKAN instance dari BentukGeometri.\n",
            "\n",
            "Memproses objek: <class 'str'>\n",
            "Objek ini adalah string.\n"
          ]
        }
      ]
    },
    {
      "cell_type": "markdown",
      "source": [
        "## Penugasan"
      ],
      "metadata": {
        "id": "5bUKKB9LX98l"
      }
    },
    {
      "cell_type": "code",
      "source": [
        "\n",
        "class Mahasiswa:\n",
        "    def __init__(self, nama, nim, ipk):\n",
        "        print(f\"(Memanggil __init__ Mahasiswa untuk '{nama}')\")\n",
        "        self.nama = nama\n",
        "        self.nim = nim\n",
        "        self.ipk = ipk\n",
        "        print(f\"(Inisialisasi Mahasiswa '{nama}' selesai)\")\n",
        "\n",
        "    def tampilkan_info(self):\n",
        "        print(f\"Nama: {self.nama}\")\n",
        "        print(f\"NIM: {self.nim}\")\n",
        "        print(f\"IPK: {self.ipk}\")\n",
        "\n",
        "    def hitung_predikat(self):\n",
        "        if self.ipk >= 3.5:\n",
        "            print(\"Predikat: Dengan Pujian\")\n",
        "        elif self.ipk >= 3.0:\n",
        "            print(\"Predikat: Sangat Memuaskan\")\n",
        "        elif self.ipk >= 2.5:\n",
        "            print(\"Predikat: Memuaskan\")\n",
        "        else:\n",
        "            print(\"Predikat: Cukup\")\n",
        "\n",
        "class MahasiswaSarjana(Mahasiswa):\n",
        "    def __init__(self, nama, nim, ipk, semester, sks_lulus):\n",
        "        print(f\"(Memanggil __init__ MahasiswaSarjana untuk '{nama}')\")\n",
        "        super().__init__(nama, nim, ipk)\n",
        "        self.semester = semester\n",
        "        self.sks_lulus = sks_lulus\n",
        "        print(f\"(Inisialisasi atribut Sarjana selesai untuk '{nama}')\")\n",
        "\n",
        "    def tampilkan_info(self):\n",
        "        super().tampilkan_info()\n",
        "        print(f\"Semester: {self.semester}\")\n",
        "        print(f\"SKS Lulus: {self.sks_lulus}\")\n",
        "\n",
        "class MahasiswaMagister(Mahasiswa):\n",
        "    def __init__(self, nama, nim, ipk, judul_tesis, nama_pembimbing):\n",
        "        print(f\"(Memanggil __init__ MahasiswaMagister untuk '{nama}')\")\n",
        "        super().__init__(nama, nim, ipk)\n",
        "        self.judul_tesis = judul_tesis\n",
        "        self.nama_pembimbing = nama_pembimbing\n",
        "        print(f\"(Inisialisasi atribut Magister selesai untuk '{nama}')\")\n",
        "\n",
        "    def tampilkan_info(self):\n",
        "        super().tampilkan_info()\n",
        "        print(f\"Judul Tesis: {self.judul_tesis}\")\n",
        "        print(f\"Pembimbing: {self.nama_pembimbing}\")\n",
        "\n",
        "if __name__ == \"__main__\":\n",
        "    print(\"=== Objek Mahasiswa Sarjana ===\")\n",
        "    sarjana1 = MahasiswaSarjana(\"Asdif\", \"4.33.24.1.14\", 3.4, 6, 120)\n",
        "    print(\"-\" * 30)\n",
        "    sarjana1.tampilkan_info()\n",
        "    sarjana1.hitung_predikat()\n",
        "\n",
        "    print(\"\\n\" + \"=\" * 40 + \"\\n\")\n",
        "\n",
        "    print(\"=== Objek Mahasiswa Magister ===\")\n",
        "    magister1 = MahasiswaMagister(\"Asdif\", \"4.33.24.1.14\", 3.8, \"Optimasi Jaringan Blockchain\", \"Ir. Prayitno, S.ST.,M.T.,Ph.D.\")\n",
        "    print(\"-\" * 30)\n",
        "    magister1.tampilkan_info()\n",
        "    magister1.hitung_predikat()\n"
      ],
      "metadata": {
        "colab": {
          "base_uri": "https://localhost:8080/"
        },
        "id": "0R-nOci2YBzM",
        "outputId": "3bdd6648-ae50-4784-f53d-437af60d7458"
      },
      "execution_count": 27,
      "outputs": [
        {
          "output_type": "stream",
          "name": "stdout",
          "text": [
            "=== Objek Mahasiswa Sarjana ===\n",
            "(Memanggil __init__ MahasiswaSarjana untuk 'Asdif')\n",
            "(Memanggil __init__ Mahasiswa untuk 'Asdif')\n",
            "(Inisialisasi Mahasiswa 'Asdif' selesai)\n",
            "(Inisialisasi atribut Sarjana selesai untuk 'Asdif')\n",
            "------------------------------\n",
            "Nama: Asdif\n",
            "NIM: 4.33.24.1.14\n",
            "IPK: 3.4\n",
            "Semester: 6\n",
            "SKS Lulus: 120\n",
            "Predikat: Sangat Memuaskan\n",
            "\n",
            "========================================\n",
            "\n",
            "=== Objek Mahasiswa Magister ===\n",
            "(Memanggil __init__ MahasiswaMagister untuk 'Asdif')\n",
            "(Memanggil __init__ Mahasiswa untuk 'Asdif')\n",
            "(Inisialisasi Mahasiswa 'Asdif' selesai)\n",
            "(Inisialisasi atribut Magister selesai untuk 'Asdif')\n",
            "------------------------------\n",
            "Nama: Asdif\n",
            "NIM: 4.33.24.1.14\n",
            "IPK: 3.8\n",
            "Judul Tesis: Optimasi Jaringan Blockchain\n",
            "Pembimbing: Ir. Prayitno, S.ST.,M.T.,Ph.D.\n",
            "Predikat: Dengan Pujian\n"
          ]
        }
      ]
    }
  ]
}